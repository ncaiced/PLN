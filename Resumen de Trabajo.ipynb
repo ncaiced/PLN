{
 "cells": [
  {
   "cell_type": "markdown",
   "id": "67ef2a86-7901-440e-b8bc-50a6eb11a30b",
   "metadata": {},
   "source": [
    "\n",
    "## Semana 2: 19-23 diciembre\n",
    "- Revisar modelo GODEL\n",
    "\n",
    "## Semana 3: 26-30 diciembre + Enero 2\n",
    "- Revisar modelos contexto legal en español de huggingface\n",
    "- Implementación de Godel\n",
    "- Modelos GPT \n",
    "- Cap 6 y 7 del libro"
   ]
  },
  {
   "cell_type": "markdown",
   "id": "9fed3fe7-6ec9-4558-aab4-ad1da50ac50f",
   "metadata": {},
   "source": [
    "# Modelos de Generación de Texto\n",
    "\n",
    "Revisión de modelos de generación de texto en la plataforma de hugginface, \"los modelos más populares para la tarea de generar texto son los basados en modelos GPT, dado que estos modelos no requieren etiquetas previas en su entrenamiento. Además, los modelos GPT son capaces de generar gran variedad de texto, desde codigo a historias completas.\" (https://huggingface.co/tasks/text-generation). \n",
    "Ejemplos de modelos de generación de texto son _BertGeneration, DialoGPT, Longformer_. Sus diferencias se basan en cambios en los parámetros, bases de datos con los cuales se entrenan y enfoque en atención global o local. \n"
   ]
  },
  {
   "cell_type": "markdown",
   "id": "ced072d3-939b-4ae0-9119-501262f09d5c",
   "metadata": {},
   "source": [
    "# GODEL\n",
    "\n",
    "GODEL es un modelo de dialogo pre-entrenado desarrollado por Microsoft. Frente a modelos anteriores, presenta la ventaja de una fase de 'grounded pre-training' con la cual se equipa para desarrollar conversaciones que requieren información externa a la conversación actual (bases de datos o ducumentos). \n",
    "Utiliza un transformer seq-to-seq para generar respuestas dado un historial de dialogo y un ambiente. El contexto $S$ y el ambiente $E$ son concatenados como una secuencia que será la entrada del modelo.\n",
    "\n",
    "![Imagen](https://www.marktechpost.com/wp-content/uploads/2022/06/GODEL-1024x533.png)\n",
    "\n",
    "El modelo se pre-entrena en 3 fases:\n",
    "\n",
    "1. Pre-entrenamiento lingüístico usando documentos web públicos para proporcionar la capacidad básica para la generación de texto. \n",
    "2. Pre-entrenamiento de diálogo sobre datos de diálogo público para mejorar el manejo de los modelos del comportamiento conversacional general.\n",
    "3. Pre-entrenamiento del contexto para permitir la generación de respuestas según el contexto.\n",
    "\n",
    "Formato de los datos:\n",
    "\n",
    "- Context: The context from session beginning to current turn.\n",
    "- Knowledge: External or environment state represented in plain text.\n",
    "- Reponse: The target agent respose. It can be a template, an api call or natural language\n",
    "\n"
   ]
  },
  {
   "cell_type": "markdown",
   "id": "55fa638c-5408-4e46-a5e9-c50eecac850a",
   "metadata": {},
   "source": [
    "![Imagen](https://winbuzzer.com/wp-content/uploads/2022/06/GODEL-Language-Model-Chart-Showing-Conversation-Flow.jpg.webp), imagen tomada del artículo [Microsoft’s GODEL Language Model Becomes Open Source](https://winbuzzer.com/2022/06/24/microsofts-godel-language-model-becomes-open-source-xcxwbn/)"
   ]
  },
  {
   "cell_type": "code",
   "execution_count": null,
   "id": "8c07f6f4-eb91-4287-875f-a0ace728b291",
   "metadata": {},
   "outputs": [],
   "source": []
  }
 ],
 "metadata": {
  "kernelspec": {
   "display_name": "Python 3 (ipykernel)",
   "language": "python",
   "name": "python3"
  },
  "language_info": {
   "codemirror_mode": {
    "name": "ipython",
    "version": 3
   },
   "file_extension": ".py",
   "mimetype": "text/x-python",
   "name": "python",
   "nbconvert_exporter": "python",
   "pygments_lexer": "ipython3",
   "version": "3.7.13"
  }
 },
 "nbformat": 4,
 "nbformat_minor": 5
}
