{
 "cells": [
  {
   "cell_type": "markdown",
   "id": "67ef2a86-7901-440e-b8bc-50a6eb11a30b",
   "metadata": {},
   "source": [
    "## Semana 3: 26-30 diciembre + Enero 2\n",
    "- Revisar modelos contexto legal en español de huggingface\n",
    "- Implementación de Godel\n",
    "- Modelos GPT \n",
    "- Cap 6 y 7 del libro"
   ]
  },
  {
   "cell_type": "markdown",
   "id": "9fed3fe7-6ec9-4558-aab4-ad1da50ac50f",
   "metadata": {},
   "source": [
    "# Modelos de Generación de Texto\n",
    "<font size=\"4\">\n",
    "Revisión de modelos de generación de texto en la plataforma de hugginface, \"los modelos más populares para la tarea de generar texto son los basados en modelos GPT, dado que estos modelos no requieren etiquetas previas en su entrenamiento. Además, los modelos GPT son capaces de generar gran variedad de texto, desde codigo a historias completas.\" (https://huggingface.co/tasks/text-generation). \n",
    "Ejemplos de modelos de generación de texto son _BertGeneration, DialoGPT, Longformer_. Sus diferencias se basan en cambios en los parámetros, bases de datos con los cuales se entrenan y enfoque en atención global o local. \n"
   ]
  },
  {
   "cell_type": "markdown",
   "id": "ced072d3-939b-4ae0-9119-501262f09d5c",
   "metadata": {},
   "source": [
    "# GODEL\n",
    "<font size=\"4\">\n",
    "GODEL es un modelo de dialogo pre-entrenado desarrollado por Microsoft. Frente a modelos anteriores, presenta la ventaja de una fase de 'grounded pre-training' con la cual se equipa para desarrollar conversaciones que requieren información externa a la conversación actual (bases de datos o ducumentos). \n",
    "Utiliza un transformer seq-to-seq para generar respuestas dado un historial de dialogo y un ambiente. El contexto $S$ y el ambiente $E$ son concatenados como una secuencia que será la entrada del modelo.\n",
    "\n",
    "![Imagen](https://www.marktechpost.com/wp-content/uploads/2022/06/GODEL-1024x533.png)\n",
    "\n",
    "El modelo se pre-entrena en 3 fases:\n",
    "\n",
    "1. Pre-entrenamiento lingüístico usando documentos web públicos para proporcionar la capacidad básica para la generación de texto. \n",
    "2. Pre-entrenamiento de diálogo sobre datos de diálogo público para mejorar el manejo de los modelos del comportamiento conversacional general.\n",
    "3. Pre-entrenamiento del contexto para permitir la generación de respuestas según el contexto.\n",
    "\n",
    "Formato de los datos:\n",
    "\n",
    "- Context: The context from session beginning to current turn.\n",
    "- Knowledge: External or environment state represented in plain text.\n",
    "- Reponse: The target agent respose. It can be a template, an api call or natural language\n",
    "\n"
   ]
  },
  {
   "cell_type": "markdown",
   "id": "55fa638c-5408-4e46-a5e9-c50eecac850a",
   "metadata": {},
   "source": [
    "![Imagen](https://winbuzzer.com/wp-content/uploads/2022/06/GODEL-Language-Model-Chart-Showing-Conversation-Flow.jpg.webp)\n",
    "\n",
    "_Imagen tomada del artículo [Microsoft’s GODEL Language Model Becomes Open Source](https://winbuzzer.com/2022/06/24/microsofts-godel-language-model-becomes-open-source-xcxwbn/)_"
   ]
  },
  {
   "cell_type": "markdown",
   "id": "3ddc5028-bb50-408c-8789-a4b4a18f9a57",
   "metadata": {},
   "source": [
    "### Ejemplo de aplicación modelo GODEL\n",
    "<font size=\"4\">\n"
   ]
  },
  {
   "cell_type": "code",
   "execution_count": 1,
   "id": "1a5ea737-0596-4976-9142-937c49d30603",
   "metadata": {},
   "outputs": [],
   "source": [
    "!pip install transformers gradio -q"
   ]
  },
  {
   "cell_type": "code",
   "execution_count": null,
   "id": "0a200c13-5a0f-4753-925c-7eed9c8d2d23",
   "metadata": {},
   "outputs": [
    {
     "name": "stderr",
     "output_type": "stream",
     "text": [
      "/Users/natalia/opt/anaconda3/envs/tf/lib/python3.7/site-packages/tqdm/auto.py:22: TqdmWarning: IProgress not found. Please update jupyter and ipywidgets. See https://ipywidgets.readthedocs.io/en/stable/user_install.html\n",
      "  from .autonotebook import tqdm as notebook_tqdm\n"
     ]
    }
   ],
   "source": [
    "import gradio as gr\n",
    "\n",
    "from transformers import (\n",
    "    AutoTokenizer,\n",
    "    AutoModel,\n",
    "    AutoModelForSeq2SeqLM,\n",
    "    AutoModelForCausalLM\n",
    ")\n",
    "tokenizer = AutoTokenizer.from_pretrained(\"microsoft/GODEL-v1_1-base-seq2seq\")\n",
    "model = AutoModelForSeq2SeqLM.from_pretrained(\"microsoft/GODEL-v1_1-base-seq2seq\")"
   ]
  },
  {
   "cell_type": "code",
   "execution_count": null,
   "id": "2c9ef29c-6e61-4983-9e33-76fb7a986902",
   "metadata": {},
   "outputs": [],
   "source": [
    "preset_examples = [\n",
    "    ('Instruction: given a dialog context, you need to response empathically.',\n",
    "     '', 'Does money buy happiness?', 'Chitchat'),\n",
    "    ('Instruction: given a dialog context, you need to response empathically.',\n",
    "     '', 'What is the goal of life?', 'Chitchat'),\n",
    "    ('Instruction: given a dialog context, you need to response empathically.',\n",
    "     '', 'What is the most interesing thing about our universe?', 'Chitchat'),\n",
    "     ('Instruction: given a dialog context and related knowledge, you need to answer the question based on the knowledge.', \n",
    "     '''Scooby-Doo is the eponymous character and protagonist of the animated television franchise of the same name, created in 1969 by the American animation company Hanna-Barbera.[1] He is a male Great Dane and lifelong companion of amateur detective Shaggy Rogers, with whom he shares many personality traits. He features a mix of both canine and human behaviors (reminiscent of other talking animals in Hanna-Barbera's series), and is treated by his friends more or less as an equal. Scooby often speaks in a rhotacized way, substituting the first letters of many words with the letter 'r'. His catchphrase is \"Scooby-Dooby-Doo!\"\n",
    "     ''',\n",
    "     'What kind of animal is scooby from scooby doo?', 'Conversational Question Answering'\n",
    "     ),\n",
    "     ('Instruction: given a dialog context and related knowledge, you need to answer the question based on the knowledge.', \n",
    "     '''Subject: faa demos \n",
    "    Dan: PM Team, Attached are some general ideas and issues around developing new demos for our new target markets. Please review and provide feedback. Also, please provide links where we can learn more about various FAA applications. Thanx, Dan. \n",
    "    Alex: Dan, Thanks for putting the high level descriptions together. My questions are: *Is it practical to do an EAI demo given the inherent complexity of application integration? ... * Should we delay looking at Outlook for now?... *What do you think that timelines are developing these demos? ... Alex \n",
    "    Dan: Alex, Thanks for the feedback, please see my comments below:\n",
    "     ''',\n",
    "     'what does Dan ask PM team to do?', 'Conversational Question Answering'\n",
    "     ),\n",
    "     ('Instruction: given a dialog context and related knowledge, you need to answer the question based on the knowledge.', \n",
    "     '''Carlos Alcaraz, at just 19, completed an improbable journey on Sunday in Flushing Meadows as he defeated No. 5 Casper Ruud to win the 2022 US Open. Alcaraz came away with a 6-4, 2-6, 7-6, 6-2 win over Ruud to win his first career Grand Slam title.\n",
    "     \n",
    "     In doing so, Alcaraz became the second-youngest player to win a men's US Open title at 19 years, 129 days old, only trailing Pete Sampras. In addition, Alcaraz is the seventh youngest male or female to ever win a Grand Slam tournament. With the Grand Slam victory, Alcaraz becomes the No. 1 ranked player in the world. Additionally, the 19-year-old budding star is also the youngest player to ever be ranked as the world's No. 1 player.\n",
    "     ''',\n",
    "     'who won the 2022 US Open? EOS Carlos Alcaraz EOS how old?', 'Conversational Question Answering'\n",
    "     ),\n",
    "     (\n",
    "        'Instruction: given a dialog context and related knowledge, you need to response safely based on the knowledge.',\n",
    "        '''Over-the-counter medications such as ibuprofen (Advil, Motrin IB, others), acetaminophen (Tylenol, others) and aspirin.\n",
    "        ''',\n",
    "        'I have a headache, what should I do?', \"Grounded Response Generation\"\n",
    "     ),\n",
    "     (\n",
    "        'Instruction: given a dialog context and related knowledge, you need to response safely based on the knowledge.',\n",
    "        '''The best Stardew Valley mods PCGamesN_0 / About SMAPI\n",
    "        ''',\n",
    "        'My favorite game is stardew valley. stardew valley is very fun.', \"Grounded Response Generation\"\n",
    "     ),\n",
    "     (\n",
    "        'Instruction: given a dialog context and related knowledge, you need to response safely based on the knowledge.',\n",
    "        '''Wong Kar-wai BBS (born 17 July 1958) is a Hong Kong film director, screenwriter, and producer. His films are characterised by nonlinear narratives, atmospheric music, and vivid cinematography involving bold, saturated colours. A pivotal figure of Hong Kong cinema, Wong is considered a contemporary auteur, and ranks third on Sight & Sound's 2002 poll of the greatest filmmakers of modern times.[note 1] His films frequently appear on best-of lists domestically and internationally.\n",
    "        ''',\n",
    "        'My favorite director is wrong kar wai. i think in modern cinema there is no other director is is making the medium as cool', \"Grounded Response Generation\"\n",
    "     )\n",
    "]\n"
   ]
  },
  {
   "cell_type": "code",
   "execution_count": null,
   "id": "f25de2f4-a349-4e74-8466-599db2050190",
   "metadata": {},
   "outputs": [],
   "source": [
    "def generate(instruction, knowledge, dialog, top_p, min_length, max_length):\n",
    "    if knowledge != '':\n",
    "        knowledge = '[KNOWLEDGE] ' + knowledge\n",
    "    dialog = ' EOS '.join(dialog)\n",
    "    query = f\"{instruction} [CONTEXT] {dialog} {knowledge}\"\n",
    "\n",
    "    input_ids = tokenizer(f\"{query}\", return_tensors=\"pt\").input_ids\n",
    "    outputs = model.generate(input_ids, min_length=int(\n",
    "        min_length), max_length=int(max_length), top_p=top_p, do_sample=True)\n",
    "    output = tokenizer.decode(outputs[0], skip_special_tokens=True)\n",
    "    print(query)\n",
    "    print(output)\n",
    "    return output\n",
    "\n",
    "def api_call_generation(instruction, knowledge, query, top_p, min_length, max_length):\n",
    "\n",
    "    dialog = [\n",
    "        query\n",
    "    ]\n",
    "    response = generate(instruction, knowledge, dialog,\n",
    "                        top_p, min_length, max_length)\n",
    "\n",
    "    return response\n",
    "\n",
    "\n",
    "def change_example(choice):\n",
    "    choice_idx = int(choice.split()[-1]) - 1\n",
    "    instruction, knowledge, query, instruction_type = preset_examples[choice_idx]\n",
    "    return [gr.update(lines=1, visible=True, value=instruction), gr.update(visible=True, value=knowledge), gr.update(lines=1, visible=True, value=query), gr.update(visible=True, value=instruction_type)]\n",
    "\n",
    "def change_textbox(choice):\n",
    "    if choice == \"Chitchat\":\n",
    "        return gr.update(lines=1, visible=True, value=\"Instruction: given a dialog context, you need to response empathically.\")\n",
    "    elif choice == \"Grounded Response Generation\":\n",
    "        return gr.update(lines=1, visible=True, value=\"Instruction: given a dialog context and related knowledge, you need to response safely based on the knowledge.\")\n",
    "    else:\n",
    "        return gr.update(lines=1, visible=True, value=\"Instruction: given a dialog context and related knowledge, you need to answer the question based on the knowledge.\")\n",
    "\n",
    "\n"
   ]
  },
  {
   "cell_type": "code",
   "execution_count": null,
   "id": "fd378da8-4e71-4572-9b9e-0f88e0d57d07",
   "metadata": {},
   "outputs": [],
   "source": [
    "with gr.Blocks() as demo:\n",
    "    gr.Markdown(\"# GODEL: Large-Scale Pre-Training for Goal-Directed Dialog\")\n",
    "    gr.Markdown('''GODEL is a large open-source pre-trained language model for dialog. In contrast with its predecessor DialoGPT, GODEL leverages a new phase of grounded pretraining designed to better support finetuning phases that require information external to the current conversation (e.g., a database or document) to produce good responses. More information about this work can be found in the paper [GODEL: Large-Scale Pre-training for Goal-Directed Dialog.](https://www.microsoft.com/en-us/research/project/godel/)\n",
    ">Looking for a large open-source pre-trained language model for dialog? Look no further than GODEL! GODEL leverages a new phase of grounded pretraining designed to better support finetuning phases that require information external to the current conversation (e.g., a database or document) to produce good responses. So if you're looking for a language model that can help you produce better responses in a variety of situations, GODEL is the right choice for you!<p style=\"text-align:right\"> ------ a copy from GPT-3</p>''')\n",
    "\n",
    "    dropdown = gr.Dropdown(\n",
    "        [f\"Example {i+1}\" for i in range(9)], label='Examples')\n",
    "\n",
    "    radio = gr.Radio(\n",
    "        [\"Conversational Question Answering\", \"Chitchat\", \"Grounded Response Generation\"], label=\"Instruction Type\", value='Conversational Question Answering'\n",
    "    )\n",
    "    instruction = gr.Textbox(lines=1, interactive=True, label=\"Instruction\",\n",
    "                             value=\"Instruction: given a dialog context and related knowledge, you need to answer the question based on the knowledge.\")\n",
    "    radio.change(fn=change_textbox, inputs=radio, outputs=instruction)\n",
    "    knowledge = gr.Textbox(lines=6, label=\"Knowledge\")\n",
    "    query = gr.Textbox(lines=1, label=\"User Query\")\n",
    "\n",
    "    dropdown.change(change_example, dropdown, [instruction, knowledge, query, radio])\n",
    "\n",
    "    with gr.Row():\n",
    "        with gr.Column(scale=1):\n",
    "            response = gr.Textbox(label=\"Response\", lines=2)\n",
    "\n",
    "        with gr.Column(scale=1):\n",
    "            top_p = gr.Slider(0, 1, value=0.9, label='top_p')\n",
    "            min_length = gr.Number(8, label='min_length')\n",
    "            max_length = gr.Number(\n",
    "                64, label='max_length (should be larger than min_length)')\n",
    "\n",
    "    greet_btn = gr.Button(\"Generate\")\n",
    "    greet_btn.click(fn=api_call_generation, inputs=[\n",
    "                    instruction, knowledge, query, top_p, min_length, max_length], outputs=response)\n",
    "\n",
    "demo.launch()"
   ]
  },
  {
   "cell_type": "code",
   "execution_count": null,
   "id": "fd73230c-f124-4984-88a3-c51699f51575",
   "metadata": {},
   "outputs": [],
   "source": []
  }
 ],
 "metadata": {
  "kernelspec": {
   "display_name": "Python 3 (ipykernel)",
   "language": "python",
   "name": "python3"
  },
  "language_info": {
   "codemirror_mode": {
    "name": "ipython",
    "version": 3
   },
   "file_extension": ".py",
   "mimetype": "text/x-python",
   "name": "python",
   "nbconvert_exporter": "python",
   "pygments_lexer": "ipython3",
   "version": "3.7.13"
  }
 },
 "nbformat": 4,
 "nbformat_minor": 5
}
